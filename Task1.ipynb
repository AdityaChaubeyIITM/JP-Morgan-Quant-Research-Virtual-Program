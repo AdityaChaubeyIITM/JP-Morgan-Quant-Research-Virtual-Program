{
 "cells": [
  {
   "cell_type": "code",
   "execution_count": 19,
   "id": "1108d65b",
   "metadata": {},
   "outputs": [
    {
     "name": "stdout",
     "output_type": "stream",
     "text": [
      "11.162932225342256\n"
     ]
    }
   ],
   "source": [
    "import matplotlib.pyplot as plt\n",
    "import torch\n",
    "import pandas as pd\n",
    "from sklearn.linear_model import LinearRegression\n",
    "import numpy as np\n",
    "from scipy.optimize import curve_fit\n",
    "import numpy as np\n",
    "df = pd.read_csv('Nat_Gas.csv')\n",
    "y = df['Prices']\n",
    "df['dates'] = pd.to_datetime(df['Dates'], format='%m/%d/%y')\n",
    "df['days'] = (df['dates'] - df['dates'].iloc[0]).dt.days\n",
    "X = df[['days']] \n",
    "x = df['days']\n",
    "#plt.plot(X,y)\n",
    "def model(x, a, b, c, d, e):\n",
    "  return (a*x) + b + c*np.sin(x*d + e)\n",
    "popt, pcov = curve_fit(model, x, y, p0=[ 1.53294178e-03,  1.01188297e+01, 1, np.pi/175, -5.63834832e-01])\n",
    "a,b,c,d,e = popt\n",
    "#print(popt)\n",
    "y_pred= model(x, a, b, c, d, e)\n",
    "#plt.plot(x,y_pred)\n",
    "#plt.plot(X,y)\n",
    "ask = input(\"Enter a date\")\n",
    "date = pd.to_datetime(ask, format='%m/%d/%y')\n",
    "date = (date - df['dates'].iloc[0]).days\n",
    "print(model(date,a,b,c,d,e))\n"
   ]
  },
  {
   "cell_type": "code",
   "execution_count": null,
   "id": "b9280b22",
   "metadata": {},
   "outputs": [],
   "source": []
  }
 ],
 "metadata": {
  "kernelspec": {
   "display_name": "base",
   "language": "python",
   "name": "python3"
  },
  "language_info": {
   "codemirror_mode": {
    "name": "ipython",
    "version": 3
   },
   "file_extension": ".py",
   "mimetype": "text/x-python",
   "name": "python",
   "nbconvert_exporter": "python",
   "pygments_lexer": "ipython3",
   "version": "3.12.3"
  }
 },
 "nbformat": 4,
 "nbformat_minor": 5
}
